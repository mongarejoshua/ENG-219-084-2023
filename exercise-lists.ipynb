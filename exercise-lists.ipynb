{
 "cells": [
  {
   "cell_type": "markdown",
   "id": "bfe8bcf0",
   "metadata": {
    "papermill": {
     "duration": 0.004911,
     "end_time": "2025-03-10T19:21:46.621734",
     "exception": false,
     "start_time": "2025-03-10T19:21:46.616823",
     "status": "completed"
    },
    "tags": []
   },
   "source": [
    "**This notebook is an exercise in the [Python](https://www.kaggle.com/learn/python) course.  You can reference the tutorial at [this link](https://www.kaggle.com/colinmorris/lists).**\n",
    "\n",
    "---\n"
   ]
  },
  {
   "cell_type": "markdown",
   "id": "453053be",
   "metadata": {
    "papermill": {
     "duration": 0.003884,
     "end_time": "2025-03-10T19:21:46.630090",
     "exception": false,
     "start_time": "2025-03-10T19:21:46.626206",
     "status": "completed"
    },
    "tags": []
   },
   "source": [
    "**ENG-219-084/2023**"
   ]
  },
  {
   "cell_type": "markdown",
   "id": "ee192c6f",
   "metadata": {
    "papermill": {
     "duration": 0.003832,
     "end_time": "2025-03-10T19:21:46.638149",
     "exception": false,
     "start_time": "2025-03-10T19:21:46.634317",
     "status": "completed"
    },
    "tags": []
   },
   "source": [
    "Things get more interesting with lists. You'll apply your new knowledge to solve the questions below. Remember to run the following cell first."
   ]
  },
  {
   "cell_type": "code",
   "execution_count": 1,
   "id": "72924968",
   "metadata": {
    "execution": {
     "iopub.execute_input": "2025-03-10T19:21:46.647689Z",
     "iopub.status.busy": "2025-03-10T19:21:46.647339Z",
     "iopub.status.idle": "2025-03-10T19:21:47.579970Z",
     "shell.execute_reply": "2025-03-10T19:21:47.578624Z"
    },
    "papermill": {
     "duration": 0.939349,
     "end_time": "2025-03-10T19:21:47.581513",
     "exception": false,
     "start_time": "2025-03-10T19:21:46.642164",
     "status": "completed"
    },
    "tags": []
   },
   "outputs": [
    {
     "name": "stdout",
     "output_type": "stream",
     "text": [
      "Setup complete.\n"
     ]
    }
   ],
   "source": [
    "from learntools.core import binder; binder.bind(globals())\n",
    "from learntools.python.ex4 import *\n",
    "print('Setup complete.')"
   ]
  },
  {
   "cell_type": "markdown",
   "id": "ceb277f0",
   "metadata": {
    "papermill": {
     "duration": 0.003905,
     "end_time": "2025-03-10T19:21:47.589839",
     "exception": false,
     "start_time": "2025-03-10T19:21:47.585934",
     "status": "completed"
    },
    "tags": []
   },
   "source": [
    "# 1.\n",
    "\n",
    "Complete the function below according to its docstring."
   ]
  },
  {
   "cell_type": "code",
   "execution_count": 2,
   "id": "341ce41f",
   "metadata": {
    "execution": {
     "iopub.execute_input": "2025-03-10T19:21:47.599744Z",
     "iopub.status.busy": "2025-03-10T19:21:47.599285Z",
     "iopub.status.idle": "2025-03-10T19:21:47.607532Z",
     "shell.execute_reply": "2025-03-10T19:21:47.606639Z"
    },
    "papermill": {
     "duration": 0.01515,
     "end_time": "2025-03-10T19:21:47.608944",
     "exception": false,
     "start_time": "2025-03-10T19:21:47.593794",
     "status": "completed"
    },
    "tags": []
   },
   "outputs": [
    {
     "data": {
      "application/javascript": [
       "parent.postMessage({\"jupyterEvent\": \"custom.exercise_interaction\", \"data\": {\"outcomeType\": 1, \"valueTowardsCompletion\": 0.2, \"interactionType\": 1, \"questionType\": 2, \"questionId\": \"1_SelectSecondItem\", \"learnToolsVersion\": \"0.3.4\", \"failureMessage\": \"\", \"exceptionClass\": \"\", \"trace\": \"\"}}, \"*\")"
      ],
      "text/plain": [
       "<IPython.core.display.Javascript object>"
      ]
     },
     "metadata": {},
     "output_type": "display_data"
    },
    {
     "data": {
      "text/markdown": [
       "<span style=\"color:#33cc33\">Correct</span>"
      ],
      "text/plain": [
       "Correct"
      ]
     },
     "metadata": {},
     "output_type": "display_data"
    }
   ],
   "source": [
    "def select_second(L):\n",
    "    \"\"\"Return the second element of the given list. If the list has no second\n",
    "    element, return None.\n",
    "    \"\"\"\n",
    "    if len(L) < 2:\n",
    "        return None\n",
    "    else:\n",
    "        return L[1]\n",
    "\n",
    "# Check your answer\n",
    "q1.check()"
   ]
  },
  {
   "cell_type": "code",
   "execution_count": 3,
   "id": "a7d50f93",
   "metadata": {
    "execution": {
     "iopub.execute_input": "2025-03-10T19:21:47.618247Z",
     "iopub.status.busy": "2025-03-10T19:21:47.617968Z",
     "iopub.status.idle": "2025-03-10T19:21:47.621234Z",
     "shell.execute_reply": "2025-03-10T19:21:47.620348Z"
    },
    "papermill": {
     "duration": 0.009382,
     "end_time": "2025-03-10T19:21:47.622606",
     "exception": false,
     "start_time": "2025-03-10T19:21:47.613224",
     "status": "completed"
    },
    "tags": []
   },
   "outputs": [],
   "source": [
    "#q1.hint()\n",
    "# q1.solution()"
   ]
  },
  {
   "cell_type": "markdown",
   "id": "2f021ba5",
   "metadata": {
    "papermill": {
     "duration": 0.003978,
     "end_time": "2025-03-10T19:21:47.630921",
     "exception": false,
     "start_time": "2025-03-10T19:21:47.626943",
     "status": "completed"
    },
    "tags": []
   },
   "source": [
    "# 2.\n",
    "\n",
    "You are analyzing sports teams.  Members of each team are stored in a list. The Coach is the first name in the list, the captain is the second name in the list, and other players are listed after that. \n",
    "These lists are stored in another list, which starts with the best team and proceeds through the list to the worst team last.  Complete the function below to select the **captain** of the worst team."
   ]
  },
  {
   "cell_type": "code",
   "execution_count": 4,
   "id": "c5abd129",
   "metadata": {
    "execution": {
     "iopub.execute_input": "2025-03-10T19:21:47.640748Z",
     "iopub.status.busy": "2025-03-10T19:21:47.640413Z",
     "iopub.status.idle": "2025-03-10T19:21:47.647373Z",
     "shell.execute_reply": "2025-03-10T19:21:47.646575Z"
    },
    "papermill": {
     "duration": 0.013767,
     "end_time": "2025-03-10T19:21:47.648837",
     "exception": false,
     "start_time": "2025-03-10T19:21:47.635070",
     "status": "completed"
    },
    "tags": []
   },
   "outputs": [
    {
     "data": {
      "application/javascript": [
       "parent.postMessage({\"jupyterEvent\": \"custom.exercise_interaction\", \"data\": {\"outcomeType\": 1, \"valueTowardsCompletion\": 0.2, \"interactionType\": 1, \"questionType\": 2, \"questionId\": \"2_LosingTeamCaptain\", \"learnToolsVersion\": \"0.3.4\", \"failureMessage\": \"\", \"exceptionClass\": \"\", \"trace\": \"\"}}, \"*\")"
      ],
      "text/plain": [
       "<IPython.core.display.Javascript object>"
      ]
     },
     "metadata": {},
     "output_type": "display_data"
    },
    {
     "data": {
      "text/markdown": [
       "<span style=\"color:#33cc33\">Correct</span>"
      ],
      "text/plain": [
       "Correct"
      ]
     },
     "metadata": {},
     "output_type": "display_data"
    }
   ],
   "source": [
    "def losing_team_captain(teams):\n",
    "    \"\"\"Given a list of teams, where each team is a list of names, return the 2nd player (captain)\n",
    "    from the last listed team\n",
    "    \"\"\"\n",
    "    return teams[-1][1]\n",
    "\n",
    "# Check your answer\n",
    "q2.check()"
   ]
  },
  {
   "cell_type": "code",
   "execution_count": 5,
   "id": "61aa2d71",
   "metadata": {
    "execution": {
     "iopub.execute_input": "2025-03-10T19:21:47.658909Z",
     "iopub.status.busy": "2025-03-10T19:21:47.658593Z",
     "iopub.status.idle": "2025-03-10T19:21:47.661789Z",
     "shell.execute_reply": "2025-03-10T19:21:47.661023Z"
    },
    "papermill": {
     "duration": 0.009788,
     "end_time": "2025-03-10T19:21:47.663192",
     "exception": false,
     "start_time": "2025-03-10T19:21:47.653404",
     "status": "completed"
    },
    "tags": []
   },
   "outputs": [],
   "source": [
    "#q2.hint()\n",
    "# q2.solution()"
   ]
  },
  {
   "cell_type": "markdown",
   "id": "c4ef2e87",
   "metadata": {
    "papermill": {
     "duration": 0.00421,
     "end_time": "2025-03-10T19:21:47.672146",
     "exception": false,
     "start_time": "2025-03-10T19:21:47.667936",
     "status": "completed"
    },
    "tags": []
   },
   "source": [
    "# 3.\n",
    "\n",
    "The next iteration of Mario Kart will feature an extra-infuriating new item, the *Purple Shell*. When used, it warps the last place racer into first place and the first place racer into last place. Complete the function below to implement the Purple Shell's effect."
   ]
  },
  {
   "cell_type": "code",
   "execution_count": 6,
   "id": "c410f15c",
   "metadata": {
    "execution": {
     "iopub.execute_input": "2025-03-10T19:21:47.682022Z",
     "iopub.status.busy": "2025-03-10T19:21:47.681682Z",
     "iopub.status.idle": "2025-03-10T19:21:47.689035Z",
     "shell.execute_reply": "2025-03-10T19:21:47.688189Z"
    },
    "papermill": {
     "duration": 0.013996,
     "end_time": "2025-03-10T19:21:47.690514",
     "exception": false,
     "start_time": "2025-03-10T19:21:47.676518",
     "status": "completed"
    },
    "tags": []
   },
   "outputs": [
    {
     "data": {
      "application/javascript": [
       "parent.postMessage({\"jupyterEvent\": \"custom.exercise_interaction\", \"data\": {\"outcomeType\": 1, \"valueTowardsCompletion\": 0.2, \"interactionType\": 1, \"questionType\": 2, \"questionId\": \"3_PurpleShell\", \"learnToolsVersion\": \"0.3.4\", \"failureMessage\": \"\", \"exceptionClass\": \"\", \"trace\": \"\"}}, \"*\")"
      ],
      "text/plain": [
       "<IPython.core.display.Javascript object>"
      ]
     },
     "metadata": {},
     "output_type": "display_data"
    },
    {
     "data": {
      "text/markdown": [
       "<span style=\"color:#33cc33\">Correct</span>"
      ],
      "text/plain": [
       "Correct"
      ]
     },
     "metadata": {},
     "output_type": "display_data"
    }
   ],
   "source": [
    "def purple_shell(racers):\n",
    "    \"\"\"Given a list of racers, set the first place racer (at the front of the list) to last\n",
    "    place and vice versa.\n",
    "    \n",
    "    >>> r = [\"Mario\", \"Bowser\", \"Luigi\"]\n",
    "    >>> purple_shell(r)\n",
    "    >>> r\n",
    "    [\"Luigi\", \"Bowser\", \"Mario\"]\n",
    "    \"\"\"\n",
    "    first = racers[0]\n",
    "    racers[0] = racers[-1]\n",
    "    racers[-1] = first\n",
    "    \n",
    "\n",
    "# Check your answer\n",
    "q3.check()"
   ]
  },
  {
   "cell_type": "code",
   "execution_count": 7,
   "id": "3b0ce4d9",
   "metadata": {
    "execution": {
     "iopub.execute_input": "2025-03-10T19:21:47.701067Z",
     "iopub.status.busy": "2025-03-10T19:21:47.700737Z",
     "iopub.status.idle": "2025-03-10T19:21:47.704275Z",
     "shell.execute_reply": "2025-03-10T19:21:47.703346Z"
    },
    "papermill": {
     "duration": 0.010432,
     "end_time": "2025-03-10T19:21:47.705740",
     "exception": false,
     "start_time": "2025-03-10T19:21:47.695308",
     "status": "completed"
    },
    "tags": []
   },
   "outputs": [],
   "source": [
    "#q3.hint()\n",
    "# q3.solution()"
   ]
  },
  {
   "cell_type": "markdown",
   "id": "2f405beb",
   "metadata": {
    "papermill": {
     "duration": 0.004381,
     "end_time": "2025-03-10T19:21:47.714832",
     "exception": false,
     "start_time": "2025-03-10T19:21:47.710451",
     "status": "completed"
    },
    "tags": []
   },
   "source": [
    "# 4.\n",
    "\n",
    "What are the lengths of the following lists? Fill in the variable `lengths` with your predictions. (Try to make a prediction for each list *without* just calling `len()` on it.)"
   ]
  },
  {
   "cell_type": "code",
   "execution_count": 8,
   "id": "7e9dcfc5",
   "metadata": {
    "execution": {
     "iopub.execute_input": "2025-03-10T19:21:47.725402Z",
     "iopub.status.busy": "2025-03-10T19:21:47.725080Z",
     "iopub.status.idle": "2025-03-10T19:21:47.732879Z",
     "shell.execute_reply": "2025-03-10T19:21:47.732084Z"
    },
    "papermill": {
     "duration": 0.014765,
     "end_time": "2025-03-10T19:21:47.734257",
     "exception": false,
     "start_time": "2025-03-10T19:21:47.719492",
     "status": "completed"
    },
    "tags": []
   },
   "outputs": [
    {
     "data": {
      "application/javascript": [
       "parent.postMessage({\"jupyterEvent\": \"custom.exercise_interaction\", \"data\": {\"outcomeType\": 1, \"valueTowardsCompletion\": 0.2, \"interactionType\": 1, \"questionType\": 1, \"questionId\": \"4_UnderstandLen\", \"learnToolsVersion\": \"0.3.4\", \"failureMessage\": \"\", \"exceptionClass\": \"\", \"trace\": \"\"}}, \"*\")"
      ],
      "text/plain": [
       "<IPython.core.display.Javascript object>"
      ]
     },
     "metadata": {},
     "output_type": "display_data"
    },
    {
     "data": {
      "text/markdown": [
       "<span style=\"color:#33cc33\">Correct:</span> \n",
       "\n",
       "\n",
       "- a: There are three items in this list. Nothing tricky yet.\n",
       "- b: The list `[2, 3]` counts as a single item. It has one item before it. So we have 2 items in the list\n",
       "- c: The empty list has 0 items\n",
       "- d: The expression is the same as the list `[2, 3]`, which has length 2."
      ],
      "text/plain": [
       "Correct: \n",
       "\n",
       "\n",
       "- a: There are three items in this list. Nothing tricky yet.\n",
       "- b: The list `[2, 3]` counts as a single item. It has one item before it. So we have 2 items in the list\n",
       "- c: The empty list has 0 items\n",
       "- d: The expression is the same as the list `[2, 3]`, which has length 2."
      ]
     },
     "metadata": {},
     "output_type": "display_data"
    }
   ],
   "source": [
    "a = [1, 2, 3]\n",
    "b = [1, [2, 3]]\n",
    "c = []\n",
    "d = [1, 2, 3][1:]\n",
    "\n",
    "# Put your predictions in the list below. Lengths should contain 4 numbers, the\n",
    "# first being the length of a, the second being the length of b and so on.\n",
    "lengths = [3, 2, 0, 2]\n",
    "\n",
    "# Check your answer\n",
    "q4.check()"
   ]
  },
  {
   "cell_type": "code",
   "execution_count": 9,
   "id": "94904b4b",
   "metadata": {
    "collapsed": true,
    "execution": {
     "iopub.execute_input": "2025-03-10T19:21:47.744965Z",
     "iopub.status.busy": "2025-03-10T19:21:47.744643Z",
     "iopub.status.idle": "2025-03-10T19:21:47.747784Z",
     "shell.execute_reply": "2025-03-10T19:21:47.747079Z"
    },
    "jupyter": {
     "outputs_hidden": true
    },
    "papermill": {
     "duration": 0.009995,
     "end_time": "2025-03-10T19:21:47.749187",
     "exception": false,
     "start_time": "2025-03-10T19:21:47.739192",
     "status": "completed"
    },
    "tags": []
   },
   "outputs": [],
   "source": [
    "# line below provides some explanation\n",
    "#q4.solution()"
   ]
  },
  {
   "cell_type": "markdown",
   "id": "848e8587",
   "metadata": {
    "papermill": {
     "duration": 0.004605,
     "end_time": "2025-03-10T19:21:47.758732",
     "exception": false,
     "start_time": "2025-03-10T19:21:47.754127",
     "status": "completed"
    },
    "tags": []
   },
   "source": [
    "# 5. <span title=\"A bit spicy\" style=\"color: darkgreen \">🌶️</span>\n",
    "\n",
    "We're using lists to record people who attended our party and what order they arrived in. For example, the following list represents a party with 7 guests, in which Adela showed up first and Ford was the last to arrive:\n",
    "\n",
    "    party_attendees = ['Adela', 'Fleda', 'Owen', 'May', 'Mona', 'Gilbert', 'Ford']\n",
    "\n",
    "A guest is considered 'fashionably late' if they arrived after at least half of the party's guests. However, they must not be the very last guest (that's taking it too far). In the above example, Mona and Gilbert are the only guests who were fashionably late.\n",
    "\n",
    "Complete the function below which takes a list of party attendees as well as a person, and tells us whether that person is fashionably late."
   ]
  },
  {
   "cell_type": "code",
   "execution_count": 10,
   "id": "30832eff",
   "metadata": {
    "execution": {
     "iopub.execute_input": "2025-03-10T19:21:47.769566Z",
     "iopub.status.busy": "2025-03-10T19:21:47.769253Z",
     "iopub.status.idle": "2025-03-10T19:21:47.776516Z",
     "shell.execute_reply": "2025-03-10T19:21:47.775732Z"
    },
    "papermill": {
     "duration": 0.014331,
     "end_time": "2025-03-10T19:21:47.777968",
     "exception": false,
     "start_time": "2025-03-10T19:21:47.763637",
     "status": "completed"
    },
    "tags": []
   },
   "outputs": [
    {
     "data": {
      "application/javascript": [
       "parent.postMessage({\"jupyterEvent\": \"custom.exercise_interaction\", \"data\": {\"outcomeType\": 1, \"valueTowardsCompletion\": 0.2, \"interactionType\": 1, \"questionType\": 2, \"questionId\": \"5_FashionablyLate\", \"learnToolsVersion\": \"0.3.4\", \"failureMessage\": \"\", \"exceptionClass\": \"\", \"trace\": \"\"}}, \"*\")"
      ],
      "text/plain": [
       "<IPython.core.display.Javascript object>"
      ]
     },
     "metadata": {},
     "output_type": "display_data"
    },
    {
     "data": {
      "text/markdown": [
       "<span style=\"color:#33cc33\">Correct</span>"
      ],
      "text/plain": [
       "Correct"
      ]
     },
     "metadata": {},
     "output_type": "display_data"
    }
   ],
   "source": [
    "def fashionably_late(arrivals, name):\n",
    "    \"\"\"Given an ordered list of arrivals to the party and a name, return whether the guest with that\n",
    "    name was fashionably late.\n",
    "    \"\"\"\n",
    "    order = arrivals.index(name)\n",
    "\n",
    "    var = order >= len(arrivals) / 2 and order != len(arrivals) - 1\n",
    "\n",
    "    return var\n",
    "\n",
    "# Check your answer\n",
    "q5.check()"
   ]
  },
  {
   "cell_type": "code",
   "execution_count": 11,
   "id": "05adcf7c",
   "metadata": {
    "execution": {
     "iopub.execute_input": "2025-03-10T19:21:47.788950Z",
     "iopub.status.busy": "2025-03-10T19:21:47.788649Z",
     "iopub.status.idle": "2025-03-10T19:21:47.791591Z",
     "shell.execute_reply": "2025-03-10T19:21:47.790961Z"
    },
    "papermill": {
     "duration": 0.009888,
     "end_time": "2025-03-10T19:21:47.792921",
     "exception": false,
     "start_time": "2025-03-10T19:21:47.783033",
     "status": "completed"
    },
    "tags": []
   },
   "outputs": [],
   "source": [
    "#q5.hint()\n",
    "# q5.solution()"
   ]
  },
  {
   "cell_type": "markdown",
   "id": "f5a072dd",
   "metadata": {
    "papermill": {
     "duration": 0.004891,
     "end_time": "2025-03-10T19:21:47.803000",
     "exception": false,
     "start_time": "2025-03-10T19:21:47.798109",
     "status": "completed"
    },
    "tags": []
   },
   "source": [
    "# Keep Going\n",
    "\n",
    "That's it for lists and tuples! Now you have the baseline knowledge to **[learn about loops](https://www.kaggle.com/colinmorris/loops-and-list-comprehensions)**, which is where lists and tuples get really interesting. "
   ]
  },
  {
   "cell_type": "markdown",
   "id": "f87cf1f8",
   "metadata": {
    "papermill": {
     "duration": 0.004684,
     "end_time": "2025-03-10T19:21:47.812738",
     "exception": false,
     "start_time": "2025-03-10T19:21:47.808054",
     "status": "completed"
    },
    "tags": []
   },
   "source": [
    "---\n",
    "\n",
    "\n",
    "\n",
    "\n",
    "*Have questions or comments? Visit the [course discussion forum](https://www.kaggle.com/learn/python/discussion) to chat with other learners.*"
   ]
  }
 ],
 "metadata": {
  "kaggle": {
   "accelerator": "none",
   "dataSources": [],
   "isGpuEnabled": false,
   "isInternetEnabled": false,
   "language": "python",
   "sourceType": "notebook"
  },
  "kernelspec": {
   "display_name": "Python 3",
   "language": "python",
   "name": "python3"
  },
  "language_info": {
   "codemirror_mode": {
    "name": "ipython",
    "version": 3
   },
   "file_extension": ".py",
   "mimetype": "text/x-python",
   "name": "python",
   "nbconvert_exporter": "python",
   "pygments_lexer": "ipython3",
   "version": "3.10.12"
  },
  "learntools_metadata": {
   "lesson_index": 3,
   "type": "exercise"
  },
  "papermill": {
   "default_parameters": {},
   "duration": 4.399819,
   "end_time": "2025-03-10T19:21:48.335884",
   "environment_variables": {},
   "exception": null,
   "input_path": "__notebook__.ipynb",
   "output_path": "__notebook__.ipynb",
   "parameters": {},
   "start_time": "2025-03-10T19:21:43.936065",
   "version": "2.6.0"
  }
 },
 "nbformat": 4,
 "nbformat_minor": 5
}
