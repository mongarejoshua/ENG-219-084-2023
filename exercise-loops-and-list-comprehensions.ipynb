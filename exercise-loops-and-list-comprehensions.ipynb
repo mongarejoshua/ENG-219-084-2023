{
 "cells": [
  {
   "cell_type": "markdown",
   "id": "b4606103",
   "metadata": {
    "papermill": {
     "duration": 0.005268,
     "end_time": "2025-03-26T17:59:22.867071",
     "exception": false,
     "start_time": "2025-03-26T17:59:22.861803",
     "status": "completed"
    },
    "tags": []
   },
   "source": [
    "**This notebook is an exercise in the [Python](https://www.kaggle.com/learn/python) course.  You can reference the tutorial at [this link](https://www.kaggle.com/colinmorris/loops-and-list-comprehensions).**\n",
    "\n",
    "---\n"
   ]
  },
  {
   "cell_type": "markdown",
   "id": "75edd72c",
   "metadata": {
    "papermill": {
     "duration": 0.004776,
     "end_time": "2025-03-26T17:59:22.876783",
     "exception": false,
     "start_time": "2025-03-26T17:59:22.872007",
     "status": "completed"
    },
    "tags": []
   },
   "source": [
    "With all you've learned, you can start writing much more interesting programs. See if you can solve the problems below.\n",
    "\n",
    "As always, run the setup code below before working on the questions."
   ]
  },
  {
   "cell_type": "code",
   "execution_count": 1,
   "id": "a4472139",
   "metadata": {
    "execution": {
     "iopub.execute_input": "2025-03-26T17:59:22.888525Z",
     "iopub.status.busy": "2025-03-26T17:59:22.888002Z",
     "iopub.status.idle": "2025-03-26T17:59:24.010198Z",
     "shell.execute_reply": "2025-03-26T17:59:24.008598Z"
    },
    "papermill": {
     "duration": 1.130237,
     "end_time": "2025-03-26T17:59:24.012169",
     "exception": false,
     "start_time": "2025-03-26T17:59:22.881932",
     "status": "completed"
    },
    "tags": []
   },
   "outputs": [
    {
     "name": "stdout",
     "output_type": "stream",
     "text": [
      "Setup complete.\n"
     ]
    }
   ],
   "source": [
    "from learntools.core import binder; binder.bind(globals())\n",
    "from learntools.python.ex5 import *\n",
    "print('Setup complete.')"
   ]
  },
  {
   "cell_type": "markdown",
   "id": "afdb9c70",
   "metadata": {
    "papermill": {
     "duration": 0.00442,
     "end_time": "2025-03-26T17:59:24.021582",
     "exception": false,
     "start_time": "2025-03-26T17:59:24.017162",
     "status": "completed"
    },
    "tags": []
   },
   "source": [
    "# 1.\n",
    "\n",
    "Have you ever felt debugging involved a bit of luck? The following program has a bug. Try to identify the bug and fix it."
   ]
  },
  {
   "cell_type": "code",
   "execution_count": 2,
   "id": "08198b33",
   "metadata": {
    "execution": {
     "iopub.execute_input": "2025-03-26T17:59:24.032450Z",
     "iopub.status.busy": "2025-03-26T17:59:24.031886Z",
     "iopub.status.idle": "2025-03-26T17:59:24.037509Z",
     "shell.execute_reply": "2025-03-26T17:59:24.036408Z"
    },
    "papermill": {
     "duration": 0.013681,
     "end_time": "2025-03-26T17:59:24.039862",
     "exception": false,
     "start_time": "2025-03-26T17:59:24.026181",
     "status": "completed"
    },
    "tags": []
   },
   "outputs": [],
   "source": [
    "def has_lucky_number(nums):\n",
    "    \"\"\"Return whether the given list of numbers is lucky. A lucky list contains\n",
    "    at least one number divisible by 7.\n",
    "    \"\"\"\n",
    "    for num in nums:\n",
    "        if num % 7 == 0:\n",
    "            return True\n",
    "        \n",
    "        return False"
   ]
  },
  {
   "cell_type": "markdown",
   "id": "b3333b78",
   "metadata": {
    "papermill": {
     "duration": 0.004319,
     "end_time": "2025-03-26T17:59:24.049132",
     "exception": false,
     "start_time": "2025-03-26T17:59:24.044813",
     "status": "completed"
    },
    "tags": []
   },
   "source": [
    "Try to identify the bug and fix it in the cell below:"
   ]
  },
  {
   "cell_type": "code",
   "execution_count": 3,
   "id": "834ef3c2",
   "metadata": {
    "execution": {
     "iopub.execute_input": "2025-03-26T17:59:24.059801Z",
     "iopub.status.busy": "2025-03-26T17:59:24.059384Z",
     "iopub.status.idle": "2025-03-26T17:59:24.069747Z",
     "shell.execute_reply": "2025-03-26T17:59:24.068721Z"
    },
    "papermill": {
     "duration": 0.017663,
     "end_time": "2025-03-26T17:59:24.071386",
     "exception": false,
     "start_time": "2025-03-26T17:59:24.053723",
     "status": "completed"
    },
    "tags": []
   },
   "outputs": [
    {
     "data": {
      "application/javascript": [
       "parent.postMessage({\"jupyterEvent\": \"custom.exercise_interaction\", \"data\": {\"outcomeType\": 1, \"valueTowardsCompletion\": 0.25, \"interactionType\": 1, \"questionType\": 2, \"questionId\": \"1_EarlyExitDebugging\", \"learnToolsVersion\": \"0.3.4\", \"failureMessage\": \"\", \"exceptionClass\": \"\", \"trace\": \"\"}}, \"*\")"
      ],
      "text/plain": [
       "<IPython.core.display.Javascript object>"
      ]
     },
     "metadata": {},
     "output_type": "display_data"
    },
    {
     "data": {
      "text/markdown": [
       "<span style=\"color:#33cc33\">Correct:</span> \n",
       "\n",
       "Remember that `return` causes a function to exit immediately. So our original implementation always ran for just one iteration. We can only return `False` if we've looked at every element of the list (and confirmed that none of them are lucky). Though we can return early if the answer is `True`:\n",
       "\n",
       "```python\n",
       "def has_lucky_number(nums):\n",
       "    for num in nums:\n",
       "        if num % 7 == 0:\n",
       "            return True\n",
       "    # We've exhausted the list without finding a lucky number\n",
       "    return False\n",
       "```\n",
       "\n",
       "Here's a one-line version using a list comprehension with Python's `any` function (you can read about what it does by calling `help(any)`):\n",
       "\n",
       "```python\n",
       "def has_lucky_number(nums):\n",
       "    return any([num % 7 == 0 for num in nums])\n",
       "```\n"
      ],
      "text/plain": [
       "Correct: \n",
       "\n",
       "Remember that `return` causes a function to exit immediately. So our original implementation always ran for just one iteration. We can only return `False` if we've looked at every element of the list (and confirmed that none of them are lucky). Though we can return early if the answer is `True`:\n",
       "\n",
       "```python\n",
       "def has_lucky_number(nums):\n",
       "    for num in nums:\n",
       "        if num % 7 == 0:\n",
       "            return True\n",
       "    # We've exhausted the list without finding a lucky number\n",
       "    return False\n",
       "```\n",
       "\n",
       "Here's a one-line version using a list comprehension with Python's `any` function (you can read about what it does by calling `help(any)`):\n",
       "\n",
       "```python\n",
       "def has_lucky_number(nums):\n",
       "    return any([num % 7 == 0 for num in nums])\n",
       "```"
      ]
     },
     "metadata": {},
     "output_type": "display_data"
    }
   ],
   "source": [
    "def has_lucky_number(nums):\n",
    "    \"\"\"Return whether the given list of numbers is lucky. A lucky list contains\n",
    "    at least one number divisible by 7.\n",
    "    \"\"\"\n",
    "    return any([num % 7 == 0 for num in nums])\n",
    "# Check your answer\n",
    "q1.check()"
   ]
  },
  {
   "cell_type": "code",
   "execution_count": 4,
   "id": "65ad901d",
   "metadata": {
    "execution": {
     "iopub.execute_input": "2025-03-26T17:59:24.082590Z",
     "iopub.status.busy": "2025-03-26T17:59:24.082214Z",
     "iopub.status.idle": "2025-03-26T17:59:24.086369Z",
     "shell.execute_reply": "2025-03-26T17:59:24.085238Z"
    },
    "papermill": {
     "duration": 0.011833,
     "end_time": "2025-03-26T17:59:24.088289",
     "exception": false,
     "start_time": "2025-03-26T17:59:24.076456",
     "status": "completed"
    },
    "tags": []
   },
   "outputs": [],
   "source": [
    "#q1.hint()\n",
    "# q1.solution()"
   ]
  },
  {
   "cell_type": "markdown",
   "id": "36eb70be",
   "metadata": {
    "papermill": {
     "duration": 0.004755,
     "end_time": "2025-03-26T17:59:24.098254",
     "exception": false,
     "start_time": "2025-03-26T17:59:24.093499",
     "status": "completed"
    },
    "tags": []
   },
   "source": [
    "# 2.\n",
    "Look at the Python expression below. What do you think we'll get when we run it? When you've made your prediction, uncomment the code and run the cell to see if you were right."
   ]
  },
  {
   "cell_type": "code",
   "execution_count": 5,
   "id": "081890a7",
   "metadata": {
    "execution": {
     "iopub.execute_input": "2025-03-26T17:59:24.109764Z",
     "iopub.status.busy": "2025-03-26T17:59:24.109290Z",
     "iopub.status.idle": "2025-03-26T17:59:24.113835Z",
     "shell.execute_reply": "2025-03-26T17:59:24.112559Z"
    },
    "papermill": {
     "duration": 0.012551,
     "end_time": "2025-03-26T17:59:24.115844",
     "exception": false,
     "start_time": "2025-03-26T17:59:24.103293",
     "status": "completed"
    },
    "tags": []
   },
   "outputs": [],
   "source": [
    "# [1, 2, 3, 4] > 2"
   ]
  },
  {
   "cell_type": "markdown",
   "id": "78ade928",
   "metadata": {
    "papermill": {
     "duration": 0.004757,
     "end_time": "2025-03-26T17:59:24.125738",
     "exception": false,
     "start_time": "2025-03-26T17:59:24.120981",
     "status": "completed"
    },
    "tags": []
   },
   "source": [
    "R and Python have some libraries (like numpy and pandas) compare each element of the list to 2 (i.e. do an 'element-wise' comparison) and give us a list of booleans like `[False, False, True, True]`. \n",
    "\n",
    "Implement a function that reproduces this behaviour, returning a list of booleans corresponding to whether the corresponding element is greater than n."
   ]
  },
  {
   "cell_type": "code",
   "execution_count": 6,
   "id": "a4dab165",
   "metadata": {
    "execution": {
     "iopub.execute_input": "2025-03-26T17:59:24.137339Z",
     "iopub.status.busy": "2025-03-26T17:59:24.136924Z",
     "iopub.status.idle": "2025-03-26T17:59:24.145668Z",
     "shell.execute_reply": "2025-03-26T17:59:24.144586Z"
    },
    "papermill": {
     "duration": 0.016518,
     "end_time": "2025-03-26T17:59:24.147376",
     "exception": false,
     "start_time": "2025-03-26T17:59:24.130858",
     "status": "completed"
    },
    "tags": []
   },
   "outputs": [
    {
     "data": {
      "application/javascript": [
       "parent.postMessage({\"jupyterEvent\": \"custom.exercise_interaction\", \"data\": {\"outcomeType\": 1, \"valueTowardsCompletion\": 0.25, \"interactionType\": 1, \"questionType\": 2, \"questionId\": \"2_ElementWiseComparison\", \"learnToolsVersion\": \"0.3.4\", \"failureMessage\": \"\", \"exceptionClass\": \"\", \"trace\": \"\"}}, \"*\")"
      ],
      "text/plain": [
       "<IPython.core.display.Javascript object>"
      ]
     },
     "metadata": {},
     "output_type": "display_data"
    },
    {
     "data": {
      "text/markdown": [
       "<span style=\"color:#33cc33\">Correct:</span> \n",
       "\n",
       "Here's one solution:\n",
       "```python\n",
       "def elementwise_greater_than(L, thresh):\n",
       "    res = []\n",
       "    for ele in L:\n",
       "        res.append(ele > thresh)\n",
       "    return res\n",
       "```\n",
       "\n",
       "And here's the list comprehension version:\n",
       "```python\n",
       "def elementwise_greater_than(L, thresh):\n",
       "    return [ele > thresh for ele in L]\n",
       "```\n"
      ],
      "text/plain": [
       "Correct: \n",
       "\n",
       "Here's one solution:\n",
       "```python\n",
       "def elementwise_greater_than(L, thresh):\n",
       "    res = []\n",
       "    for ele in L:\n",
       "        res.append(ele > thresh)\n",
       "    return res\n",
       "```\n",
       "\n",
       "And here's the list comprehension version:\n",
       "```python\n",
       "def elementwise_greater_than(L, thresh):\n",
       "    return [ele > thresh for ele in L]\n",
       "```"
      ]
     },
     "metadata": {},
     "output_type": "display_data"
    }
   ],
   "source": [
    "def elementwise_greater_than(L, thresh):\n",
    "    \"\"\"Return a list with the same length as L, where the value at index i is \n",
    "    True if L[i] is greater than thresh, and False otherwise.\n",
    "    \n",
    "    >>> elementwise_greater_than([1, 2, 3, 4], 2)\n",
    "    [False, False, True, True]\n",
    "    \"\"\"\n",
    "    temp_list = []\n",
    "    for i in L:\n",
    "        temp_list.append(i>thresh)\n",
    "\n",
    "    return temp_list\n",
    "\n",
    "# Check your answer\n",
    "q2.check()"
   ]
  },
  {
   "cell_type": "code",
   "execution_count": 7,
   "id": "55206096",
   "metadata": {
    "execution": {
     "iopub.execute_input": "2025-03-26T17:59:24.159340Z",
     "iopub.status.busy": "2025-03-26T17:59:24.158924Z",
     "iopub.status.idle": "2025-03-26T17:59:24.163048Z",
     "shell.execute_reply": "2025-03-26T17:59:24.161712Z"
    },
    "papermill": {
     "duration": 0.012098,
     "end_time": "2025-03-26T17:59:24.164904",
     "exception": false,
     "start_time": "2025-03-26T17:59:24.152806",
     "status": "completed"
    },
    "tags": []
   },
   "outputs": [],
   "source": [
    "# q2.solution()"
   ]
  },
  {
   "cell_type": "markdown",
   "id": "df92f0e1",
   "metadata": {
    "papermill": {
     "duration": 0.007233,
     "end_time": "2025-03-26T17:59:24.177843",
     "exception": false,
     "start_time": "2025-03-26T17:59:24.170610",
     "status": "completed"
    },
    "tags": []
   },
   "source": [
    "# 3.\n",
    "\n",
    "Complete the body of the function below according to its docstring."
   ]
  },
  {
   "cell_type": "code",
   "execution_count": 8,
   "id": "7cd6d0cc",
   "metadata": {
    "execution": {
     "iopub.execute_input": "2025-03-26T17:59:24.190640Z",
     "iopub.status.busy": "2025-03-26T17:59:24.190165Z",
     "iopub.status.idle": "2025-03-26T17:59:24.199630Z",
     "shell.execute_reply": "2025-03-26T17:59:24.198546Z"
    },
    "papermill": {
     "duration": 0.017692,
     "end_time": "2025-03-26T17:59:24.201408",
     "exception": false,
     "start_time": "2025-03-26T17:59:24.183716",
     "status": "completed"
    },
    "tags": []
   },
   "outputs": [
    {
     "data": {
      "application/javascript": [
       "parent.postMessage({\"jupyterEvent\": \"custom.exercise_interaction\", \"data\": {\"outcomeType\": 1, \"valueTowardsCompletion\": 0.25, \"interactionType\": 1, \"questionType\": 2, \"questionId\": \"3_BoringMenu\", \"learnToolsVersion\": \"0.3.4\", \"failureMessage\": \"\", \"exceptionClass\": \"\", \"trace\": \"\"}}, \"*\")"
      ],
      "text/plain": [
       "<IPython.core.display.Javascript object>"
      ]
     },
     "metadata": {},
     "output_type": "display_data"
    },
    {
     "data": {
      "text/markdown": [
       "<span style=\"color:#33cc33\">Correct:</span> \n",
       "\n",
       "\n",
       "\n",
       "```python\n",
       "def menu_is_boring(meals):\n",
       "    # Iterate over all indices of the list, except the last one\n",
       "    for i in range(len(meals)-1):\n",
       "        if meals[i] == meals[i+1]:\n",
       "            return True\n",
       "    return False\n",
       "```\n",
       "\n",
       "The key to our solution is the call to `range`. `range(len(meals))` would give us all the indices of `meals`. If we had used that range, the last iteration of the loop would be comparing the last element to the element after it, which is... `IndexError`! `range(len(meals)-1)` gives us all the indices except the index of the last element.\n",
       "\n",
       "But don't we need to check if `meals` is empty? Turns out that `range(0) == range(-1)` - they're both empty. So if `meals` has length 0 or 1, we just won't do any iterations of our for loop.\n"
      ],
      "text/plain": [
       "Correct: \n",
       "\n",
       "\n",
       "\n",
       "```python\n",
       "def menu_is_boring(meals):\n",
       "    # Iterate over all indices of the list, except the last one\n",
       "    for i in range(len(meals)-1):\n",
       "        if meals[i] == meals[i+1]:\n",
       "            return True\n",
       "    return False\n",
       "```\n",
       "\n",
       "The key to our solution is the call to `range`. `range(len(meals))` would give us all the indices of `meals`. If we had used that range, the last iteration of the loop would be comparing the last element to the element after it, which is... `IndexError`! `range(len(meals)-1)` gives us all the indices except the index of the last element.\n",
       "\n",
       "But don't we need to check if `meals` is empty? Turns out that `range(0) == range(-1)` - they're both empty. So if `meals` has length 0 or 1, we just won't do any iterations of our for loop."
      ]
     },
     "metadata": {},
     "output_type": "display_data"
    }
   ],
   "source": [
    "def menu_is_boring(meals):\n",
    "    \"\"\"Given a list of meals served over some period of time, return True if the\n",
    "    same meal has ever been served two days in a row, and False otherwise.\n",
    "    \"\"\"\n",
    "    for i in range(len(meals) - 1):\n",
    "        if meals[i] == meals[i + 1]:\n",
    "            return True\n",
    "\n",
    "    return False\n",
    "        \n",
    "\n",
    "# Check your answer\n",
    "q3.check()"
   ]
  },
  {
   "cell_type": "code",
   "execution_count": 9,
   "id": "4fadea5e",
   "metadata": {
    "execution": {
     "iopub.execute_input": "2025-03-26T17:59:24.214046Z",
     "iopub.status.busy": "2025-03-26T17:59:24.213629Z",
     "iopub.status.idle": "2025-03-26T17:59:24.217876Z",
     "shell.execute_reply": "2025-03-26T17:59:24.216651Z"
    },
    "papermill": {
     "duration": 0.01285,
     "end_time": "2025-03-26T17:59:24.219870",
     "exception": false,
     "start_time": "2025-03-26T17:59:24.207020",
     "status": "completed"
    },
    "tags": []
   },
   "outputs": [],
   "source": [
    "#q3.hint()\n",
    "#q3.solution()"
   ]
  },
  {
   "cell_type": "markdown",
   "id": "46b3912d",
   "metadata": {
    "papermill": {
     "duration": 0.005882,
     "end_time": "2025-03-26T17:59:24.231744",
     "exception": false,
     "start_time": "2025-03-26T17:59:24.225862",
     "status": "completed"
    },
    "tags": []
   },
   "source": [
    "# 4. <span title=\"A bit spicy\" style=\"color: darkgreen \">🌶️</span>\n",
    "\n",
    "Next to the Blackjack table, the Python Challenge Casino has a slot machine. You can get a result from the slot machine by calling `play_slot_machine()`. The number it returns is your winnings in dollars. Usually it returns 0.  But sometimes you'll get lucky and get a big payday. Try running it below:"
   ]
  },
  {
   "cell_type": "code",
   "execution_count": 10,
   "id": "a7c2ec70",
   "metadata": {
    "execution": {
     "iopub.execute_input": "2025-03-26T17:59:24.244498Z",
     "iopub.status.busy": "2025-03-26T17:59:24.244111Z",
     "iopub.status.idle": "2025-03-26T17:59:24.250448Z",
     "shell.execute_reply": "2025-03-26T17:59:24.249281Z"
    },
    "papermill": {
     "duration": 0.015115,
     "end_time": "2025-03-26T17:59:24.252468",
     "exception": false,
     "start_time": "2025-03-26T17:59:24.237353",
     "status": "completed"
    },
    "tags": []
   },
   "outputs": [
    {
     "data": {
      "text/plain": [
       "0"
      ]
     },
     "execution_count": 10,
     "metadata": {},
     "output_type": "execute_result"
    }
   ],
   "source": [
    "play_slot_machine()"
   ]
  },
  {
   "cell_type": "markdown",
   "id": "e2fa9ee5",
   "metadata": {
    "papermill": {
     "duration": 0.005742,
     "end_time": "2025-03-26T17:59:24.264107",
     "exception": false,
     "start_time": "2025-03-26T17:59:24.258365",
     "status": "completed"
    },
    "tags": []
   },
   "source": [
    "By the way, did we mention that each play costs $1? Don't worry, we'll send you the bill later.\n",
    "\n",
    "On average, how much money can you expect to gain (or lose) every time you play the machine?  The casino keeps it a secret, but you can estimate the average value of each pull using a technique called the **Monte Carlo method**. To estimate the average outcome, we simulate the scenario many times, and return the average result.\n",
    "\n",
    "Complete the following function to calculate the average value per play of the slot machine."
   ]
  },
  {
   "cell_type": "code",
   "execution_count": 11,
   "id": "ad7cdb88",
   "metadata": {
    "execution": {
     "iopub.execute_input": "2025-03-26T17:59:24.276943Z",
     "iopub.status.busy": "2025-03-26T17:59:24.276514Z",
     "iopub.status.idle": "2025-03-26T17:59:24.295802Z",
     "shell.execute_reply": "2025-03-26T17:59:24.294450Z"
    },
    "papermill": {
     "duration": 0.028191,
     "end_time": "2025-03-26T17:59:24.297933",
     "exception": false,
     "start_time": "2025-03-26T17:59:24.269742",
     "status": "completed"
    },
    "tags": []
   },
   "outputs": [
    {
     "data": {
      "text/plain": [
       "-0.0023144321375433955"
      ]
     },
     "execution_count": 11,
     "metadata": {},
     "output_type": "execute_result"
    }
   ],
   "source": [
    "def estimate_average_slot_payout(n_runs):\n",
    "    \"\"\"Run the slot machine n_runs times and return the average net profit per run.\n",
    "    Example calls (note that return value is nondeterministic!):\n",
    "    >>> estimate_average_slot_payout(1)\n",
    "    -1\n",
    "    >>> estimate_average_slot_payout(1)\n",
    "    0.5\n",
    "    \"\"\"\n",
    "    import random\n",
    "    total_profit = 0\n",
    "\n",
    "    for _ in range(n_runs):\n",
    "        result = random.randint(-1, 1)\n",
    "        total_profit += result\n",
    "\n",
    "    return total_profit / n_runs if n_runs>0 else 0\n",
    "\n",
    "estimate_average_slot_payout(12098)"
   ]
  },
  {
   "cell_type": "markdown",
   "id": "9870cfea",
   "metadata": {
    "papermill": {
     "duration": 0.005583,
     "end_time": "2025-03-26T17:59:24.309631",
     "exception": false,
     "start_time": "2025-03-26T17:59:24.304048",
     "status": "completed"
    },
    "tags": []
   },
   "source": [
    "When you think you know the expected value per spin, run the code cell below to view the solution and get credit for answering the question."
   ]
  },
  {
   "cell_type": "code",
   "execution_count": 12,
   "id": "0055e9b0",
   "metadata": {
    "execution": {
     "iopub.execute_input": "2025-03-26T17:59:24.322340Z",
     "iopub.status.busy": "2025-03-26T17:59:24.322000Z",
     "iopub.status.idle": "2025-03-26T17:59:24.329584Z",
     "shell.execute_reply": "2025-03-26T17:59:24.328622Z"
    },
    "papermill": {
     "duration": 0.015916,
     "end_time": "2025-03-26T17:59:24.331235",
     "exception": false,
     "start_time": "2025-03-26T17:59:24.315319",
     "status": "completed"
    },
    "tags": []
   },
   "outputs": [
    {
     "data": {
      "application/javascript": [
       "parent.postMessage({\"jupyterEvent\": \"custom.exercise_interaction\", \"data\": {\"interactionType\": 3, \"questionType\": 4, \"questionId\": \"4_ExpectedSlotsPayout\", \"learnToolsVersion\": \"0.3.4\", \"valueTowardsCompletion\": 0.0, \"failureMessage\": \"\", \"exceptionClass\": \"\", \"trace\": \"\", \"outcomeType\": 4}}, \"*\")"
      ],
      "text/plain": [
       "<IPython.core.display.Javascript object>"
      ]
     },
     "metadata": {},
     "output_type": "display_data"
    },
    {
     "data": {
      "text/markdown": [
       "<span style=\"color:#33cc99\">Solution:</span> \n",
       "    \n",
       "The exact expected value of one pull of the slot machine is 0.025 - i.e. a little more than 2 cents.  See?  Not every game in the Python Challenge Casino is rigged against the player!\n",
       "\n",
       "In order to get this answer, you'll need to implement the `estimate_average_slot_payout(n_runs)` function to simulate pulling the slot machine `n_runs` times.  It should return the payout averaged over those `n_runs`.\n",
       "\n",
       "Then, once the function is defined, in order to estimate the average slot payout, we need only call the function.\n",
       "\n",
       "Because of the high variance of the outcome (there are some very rare high payout results that significantly affect the average) you might need to run your function with a very high value of `n_runs` to get a stable answer close to the true expectation.  For instance, you might use a value for `n_runs` of 1000000.\n",
       "\n",
       "Here's an example for how the function could look:\n",
       "```python\n",
       "def estimate_average_slot_payout(n_runs):\n",
       "    # Play slot machine n_runs times, calculate payout of each\n",
       "    payouts = [play_slot_machine()-1 for i in range(n_runs)]\n",
       "    # Calculate the average value\n",
       "    avg_payout = sum(payouts) / n_runs\n",
       "    return avg_payout\n",
       "    \n",
       "estimate_average_slot_payout(10000000)\n",
       "\n",
       "```\n",
       "\n",
       "This should return an answer close to 0.025!\n",
       "            \n"
      ],
      "text/plain": [
       "Solution: \n",
       "    \n",
       "The exact expected value of one pull of the slot machine is 0.025 - i.e. a little more than 2 cents.  See?  Not every game in the Python Challenge Casino is rigged against the player!\n",
       "\n",
       "In order to get this answer, you'll need to implement the `estimate_average_slot_payout(n_runs)` function to simulate pulling the slot machine `n_runs` times.  It should return the payout averaged over those `n_runs`.\n",
       "\n",
       "Then, once the function is defined, in order to estimate the average slot payout, we need only call the function.\n",
       "\n",
       "Because of the high variance of the outcome (there are some very rare high payout results that significantly affect the average) you might need to run your function with a very high value of `n_runs` to get a stable answer close to the true expectation.  For instance, you might use a value for `n_runs` of 1000000.\n",
       "\n",
       "Here's an example for how the function could look:\n",
       "```python\n",
       "def estimate_average_slot_payout(n_runs):\n",
       "    # Play slot machine n_runs times, calculate payout of each\n",
       "    payouts = [play_slot_machine()-1 for i in range(n_runs)]\n",
       "    # Calculate the average value\n",
       "    avg_payout = sum(payouts) / n_runs\n",
       "    return avg_payout\n",
       "    \n",
       "estimate_average_slot_payout(10000000)\n",
       "\n",
       "```\n",
       "\n",
       "This should return an answer close to 0.025!\n",
       "            "
      ]
     },
     "metadata": {},
     "output_type": "display_data"
    }
   ],
   "source": [
    "# Check your answer (Run this code cell to receive credit!)\n",
    "q4.solution()"
   ]
  },
  {
   "cell_type": "markdown",
   "id": "a0fdc584",
   "metadata": {
    "papermill": {
     "duration": 0.005822,
     "end_time": "2025-03-26T17:59:24.343829",
     "exception": false,
     "start_time": "2025-03-26T17:59:24.338007",
     "status": "completed"
    },
    "tags": []
   },
   "source": [
    "# Keep Going\n",
    "\n",
    "Many programmers report that dictionaries are their favorite data structure. You'll get to **[learn about them](https://www.kaggle.com/colinmorris/strings-and-dictionaries)** (as well as strings) in the next lesson."
   ]
  },
  {
   "cell_type": "markdown",
   "id": "4520ded6",
   "metadata": {
    "papermill": {
     "duration": 0.005655,
     "end_time": "2025-03-26T17:59:24.355345",
     "exception": false,
     "start_time": "2025-03-26T17:59:24.349690",
     "status": "completed"
    },
    "tags": []
   },
   "source": [
    "---\n",
    "\n",
    "\n",
    "\n",
    "\n",
    "*Have questions or comments? Visit the [course discussion forum](https://www.kaggle.com/learn/python/discussion) to chat with other learners.*"
   ]
  }
 ],
 "metadata": {
  "kaggle": {
   "accelerator": "none",
   "dataSources": [],
   "isGpuEnabled": false,
   "isInternetEnabled": false,
   "language": "python",
   "sourceType": "notebook"
  },
  "kernelspec": {
   "display_name": "Python 3",
   "language": "python",
   "name": "python3"
  },
  "language_info": {
   "codemirror_mode": {
    "name": "ipython",
    "version": 3
   },
   "file_extension": ".py",
   "mimetype": "text/x-python",
   "name": "python",
   "nbconvert_exporter": "python",
   "pygments_lexer": "ipython3",
   "version": "3.10.12"
  },
  "learntools_metadata": {
   "lesson_index": 4,
   "type": "exercise"
  },
  "papermill": {
   "default_parameters": {},
   "duration": 5.771691,
   "end_time": "2025-03-26T17:59:24.982604",
   "environment_variables": {},
   "exception": null,
   "input_path": "__notebook__.ipynb",
   "output_path": "__notebook__.ipynb",
   "parameters": {},
   "start_time": "2025-03-26T17:59:19.210913",
   "version": "2.6.0"
  }
 },
 "nbformat": 4,
 "nbformat_minor": 5
}
